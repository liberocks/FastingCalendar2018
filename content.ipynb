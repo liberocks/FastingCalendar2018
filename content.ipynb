{
  "nbformat": 4,
  "nbformat_minor": 0,
  "metadata": {
    "colab": {
      "name": "content.ipynb",
      "provenance": [],
      "collapsed_sections": [],
      "include_colab_link": true
    },
    "kernelspec": {
      "name": "python3",
      "display_name": "Python 3"
    }
  },
  "cells": [
    {
      "cell_type": "markdown",
      "metadata": {
        "id": "view-in-github",
        "colab_type": "text"
      },
      "source": [
        "<a href=\"https://colab.research.google.com/github/linerocks/FastingCalendar2018/blob/master/content.ipynb\" target=\"_parent\"><img src=\"https://colab.research.google.com/assets/colab-badge.svg\" alt=\"Open In Colab\"/></a>"
      ]
    },
    {
      "cell_type": "markdown",
      "metadata": {
        "id": "w-ohgBCcmNje",
        "colab_type": "text"
      },
      "source": [
        "# Vibrastic 101 : Artificial Intelligence Crash Course\n",
        "<div style=\"text-align:center\">Tirtadwipa Manunggal</div>\n",
        "<div style=\"text-align:center;font-size:16pt\">Machine Learning Enthusiast | Backend Engineer</div>\n",
        "<br>\n",
        "<div style=\"text-align:center;font-size:18pt\">tirtadwipa.manunggal@gmail.com</div>\n",
        "\n",
        "## Overview\n",
        "- Introduction\n",
        "- All about Machine Learning\n",
        "- Let's build our own\n",
        "\n",
        "---\n",
        "\n",
        "## Course Organization\n",
        "- Theory\n",
        "- Challenge\n",
        "- Project\n",
        "- Question Answer\n",
        "\n",
        "---\n",
        "## Refreshing\n",
        "Python main characteristics:\n",
        "\n",
        "* dynamic type system\n",
        "* interpreted (actually: compiled to bytecode, `*.pyc` files)\n",
        "* multi-paradigm: imperative, procedural, object-oriented, (functional), *literate*; do whatever you want\n",
        "* **indentation is important!**\n",
        "\n",
        "* Python is a high-level, dynamically typed multiparadigm programming language. \n",
        "* Python code is often said to be almost like pseudocode, since it allows you to express very powerful ideas in very few lines of code while being very readable.\n",
        "\n",
        "This course **assumes** that you have some programming experience at least:\n",
        "\n",
        "* Java (static type system, compiled, object-oriented, verbose)\n",
        "* C/C++ (static type system, compiled, multi-paradigm, low-level)\n",
        "* Matlab? R? \n",
        "\n",
        "In this *refreshing*, we're gonna review:\n",
        "\n",
        "* Basic Python: Basic data types, containers, loops, functions and classes.\n",
        "* **Pytorch** highlight\n",
        "\n",
        "---\n",
        "\n",
        "## Basic Python : Data types\n",
        "#### Numeric types\n",
        "- Integers and floats work as you would expect from other languages:"
      ]
    },
    {
      "cell_type": "code",
      "metadata": {
        "id": "2vl_lQu0mIcw",
        "colab_type": "code",
        "colab": {
          "base_uri": "https://localhost:8080/",
          "height": 89
        },
        "outputId": "3956f135-a18f-4b9e-f003-7c1a55bac723"
      },
      "source": [
        "x = 3; print(x, type(x))\n",
        "y = 2.5; print(type(y))\n",
        "\n",
        "print(x, x + 1, x - 1, x * 2, x ** 2)\n",
        "print(y, y + 1, y * 2, y ** 2)\n",
        "\n",
        "x += 1 # added to 4\n",
        "x *= 2 # mutiplied to 8"
      ],
      "execution_count": 1,
      "outputs": [
        {
          "output_type": "stream",
          "text": [
            "3 <class 'int'>\n",
            "<class 'float'>\n",
            "3 4 2 6 9\n",
            "2.5 3.5 5.0 6.25\n"
          ],
          "name": "stdout"
        }
      ]
    },
    {
      "cell_type": "markdown",
      "metadata": {
        "id": "IdrtFFjimOo7",
        "colab_type": "text"
      },
      "source": [
        "#### Boolean"
      ]
    },
    {
      "cell_type": "code",
      "metadata": {
        "id": "DMafY6WhmOw1",
        "colab_type": "code",
        "colab": {
          "base_uri": "https://localhost:8080/",
          "height": 125
        },
        "outputId": "47338875-ddc4-4d4d-974e-c00b4c553116"
      },
      "source": [
        "t, f, aa, bb = True, False, True, False\n",
        "print(t, f, type(t))\n",
        "\n",
        "print(t and f) # Logical AND;\n",
        "print(t or f)  # Logical OR;\n",
        "print(not t)   # Logical NOT;\n",
        "print(t != f)  # Logical XOR;\n",
        "\n",
        "day = \"Sunday\"\n",
        "if day == 'Sunday':\n",
        "    print('Sleep!!!')\n",
        "else:\n",
        "    print('Go to work')"
      ],
      "execution_count": 2,
      "outputs": [
        {
          "output_type": "stream",
          "text": [
            "True False <class 'bool'>\n",
            "False\n",
            "True\n",
            "False\n",
            "True\n",
            "Sleep!!!\n"
          ],
          "name": "stdout"
        }
      ]
    },
    {
      "cell_type": "markdown",
      "metadata": {
        "id": "t-v-xkqdmO2S",
        "colab_type": "text"
      },
      "source": [
        "#### String"
      ]
    },
    {
      "cell_type": "code",
      "metadata": {
        "id": "xnIQ9DKAmO74",
        "colab_type": "code",
        "colab": {
          "base_uri": "https://localhost:8080/",
          "height": 143
        },
        "outputId": "044fbfcd-d0b0-4b08-ef55-1d23520f5594"
      },
      "source": [
        "hello = 'hello'\n",
        "world = \"world\"\n",
        "print(hello, len(hello))\n",
        "\n",
        "hw = hello + ' ' + world  # String concatenation\n",
        "print(hw)\n",
        "\n",
        "hw12 = '%s %s! your number is: %d' % (hello, world, 12)  # sprintf style string formatting\n",
        "print(hw12)\n",
        "\n",
        "s = \"hello\"\n",
        "print(s.capitalize())\n",
        "print(s.upper())\n",
        "print(s.replace('l', '(ell)'))\n",
        "print('  world '.strip())"
      ],
      "execution_count": 3,
      "outputs": [
        {
          "output_type": "stream",
          "text": [
            "hello 5\n",
            "hello world\n",
            "hello world! your number is: 12\n",
            "Hello\n",
            "HELLO\n",
            "he(ell)(ell)o\n",
            "world\n"
          ],
          "name": "stdout"
        }
      ]
    },
    {
      "cell_type": "markdown",
      "metadata": {
        "id": "Zgx-O1WImPBR",
        "colab_type": "text"
      },
      "source": [
        "#### List"
      ]
    },
    {
      "cell_type": "code",
      "metadata": {
        "id": "qlYyi3-AmPGN",
        "colab_type": "code",
        "colab": {
          "base_uri": "https://localhost:8080/",
          "height": 125
        },
        "outputId": "530bbc2e-9c51-4831-d747-826a413d1eb1"
      },
      "source": [
        "xs = [3, 1, 2]    # Create a list\n",
        "print(xs, xs[2])\n",
        "print(xs[-1])     # Count from the end of the list\n",
        "\n",
        "\n",
        "xs[2] = 'foo'    # Lists can contain elements of different types\n",
        "print(xs)\n",
        "\n",
        "\n",
        "xs.append('bar') # Add a new element to the end of the list\n",
        "print(xs)\n",
        "\n",
        "\n",
        "xs =  xs + ['thing1', 'thing2'] # Adding lists (the += op works too)\n",
        "print(xs)\n",
        "\n",
        "\n",
        "x = xs.pop()     # Remove and return the last element of the list\n",
        "print(x, xs) "
      ],
      "execution_count": 4,
      "outputs": [
        {
          "output_type": "stream",
          "text": [
            "[3, 1, 2] 2\n",
            "2\n",
            "[3, 1, 'foo']\n",
            "[3, 1, 'foo', 'bar']\n",
            "[3, 1, 'foo', 'bar', 'thing1', 'thing2']\n",
            "thing2 [3, 1, 'foo', 'bar', 'thing1']\n"
          ],
          "name": "stdout"
        }
      ]
    },
    {
      "cell_type": "markdown",
      "metadata": {
        "id": "aZYiJpFAmPfo",
        "colab_type": "text"
      },
      "source": [
        "#### Slicing"
      ]
    },
    {
      "cell_type": "code",
      "metadata": {
        "id": "pxPdACLpmPkw",
        "colab_type": "code",
        "colab": {
          "base_uri": "https://localhost:8080/",
          "height": 143
        },
        "outputId": "fccaa4b7-8c67-4634-bb76-93ad8e0f8ffe"
      },
      "source": [
        "nums = list(range(5)) # range is a built-in function (more on this later)\n",
        "print(nums)\n",
        "\n",
        "\n",
        "print(nums[2:4])    # Get a slice from index 2 to 4 (exclusive); prints \"[2, 3]\"\n",
        "\n",
        "\n",
        "print(nums[2:])     # Get a slice from index 2 to the end; prints \"[2, 3, 4]\"\n",
        "\n",
        "\n",
        "print(nums[:2])     # Get a slice from the start to index 2 (exclusive); prints \"[0, 1]\"\n",
        "\n",
        "\n",
        "print(nums[:])      # Get a slice of the whole list; prints [\"0, 1, 2, 3, 4]\"\n",
        "\n",
        "\n",
        "print(nums[:-1])    # Slice indices can be negative; prints [\"0, 1, 2, 3]\"\n",
        "\n",
        "\n",
        "nums[2:4] = [8, 9]  # Assign a new sublist to a slice\n",
        "print(nums)         # Prints \"[0, 1, 8, 9, 4]\""
      ],
      "execution_count": 5,
      "outputs": [
        {
          "output_type": "stream",
          "text": [
            "[0, 1, 2, 3, 4]\n",
            "[2, 3]\n",
            "[2, 3, 4]\n",
            "[0, 1]\n",
            "[0, 1, 2, 3, 4]\n",
            "[0, 1, 2, 3]\n",
            "[0, 1, 8, 9, 4]\n"
          ],
          "name": "stdout"
        }
      ]
    },
    {
      "cell_type": "markdown",
      "metadata": {
        "id": "iKghIa1PmPqh",
        "colab_type": "text"
      },
      "source": [
        "#### Loops\n",
        "- Basic loop"
      ]
    },
    {
      "cell_type": "code",
      "metadata": {
        "id": "J59VW-S-mPwK",
        "colab_type": "code",
        "colab": {
          "base_uri": "https://localhost:8080/",
          "height": 197
        },
        "outputId": "af3776b3-7df0-4b70-f188-f8ccbcf1395f"
      },
      "source": [
        "for i in range(10):\n",
        "    print(i)"
      ],
      "execution_count": 6,
      "outputs": [
        {
          "output_type": "stream",
          "text": [
            "0\n",
            "1\n",
            "2\n",
            "3\n",
            "4\n",
            "5\n",
            "6\n",
            "7\n",
            "8\n",
            "9\n"
          ],
          "name": "stdout"
        }
      ]
    },
    {
      "cell_type": "markdown",
      "metadata": {
        "id": "L2jV_hG9mP1d",
        "colab_type": "text"
      },
      "source": [
        "- You can loop over the elements of a list like this:"
      ]
    },
    {
      "cell_type": "code",
      "metadata": {
        "id": "rC0trTR_mP65",
        "colab_type": "code",
        "colab": {
          "base_uri": "https://localhost:8080/",
          "height": 71
        },
        "outputId": "36040172-9205-4df6-aabb-d2b8892c0174"
      },
      "source": [
        "animals = ['cat', 'dog', 'monkey']\n",
        "for animal in animals:\n",
        "    aa = animal + ' :)'\n",
        "    print(aa)"
      ],
      "execution_count": 7,
      "outputs": [
        {
          "output_type": "stream",
          "text": [
            "cat :)\n",
            "dog :)\n",
            "monkey :)\n"
          ],
          "name": "stdout"
        }
      ]
    },
    {
      "cell_type": "markdown",
      "metadata": {
        "id": "VLd79RjWmQAJ",
        "colab_type": "text"
      },
      "source": [
        "- If you want access to the index of each element within the body of a loop, use the built-in `enumerate` function:"
      ]
    },
    {
      "cell_type": "code",
      "metadata": {
        "id": "64032sZvmQGA",
        "colab_type": "code",
        "colab": {
          "base_uri": "https://localhost:8080/",
          "height": 71
        },
        "outputId": "5e107efa-f6c3-4b22-ef92-dbdafc062a99"
      },
      "source": [
        "animals = ['cat', 'dog', 'monkey']\n",
        "for idx, animal in enumerate(animals):\n",
        "    print('Item number %d is a %s' % (idx + 1, animal))"
      ],
      "execution_count": 8,
      "outputs": [
        {
          "output_type": "stream",
          "text": [
            "Item number 1 is a cat\n",
            "Item number 2 is a dog\n",
            "Item number 3 is a monkey\n"
          ],
          "name": "stdout"
        }
      ]
    },
    {
      "cell_type": "markdown",
      "metadata": {
        "id": "AvjfvI28mQKz",
        "colab_type": "text"
      },
      "source": [
        "# Challenge\n",
        "# Write loops to draw triangle!\n",
        "```python\n",
        "h = 3\n",
        "\n",
        "*\n",
        "**\n",
        "***\n",
        "```\n",
        "```python\n",
        "h = 5\n",
        "\n",
        "*\n",
        "**\n",
        "***\n",
        "****\n",
        "*****\n",
        "```"
      ]
    },
    {
      "cell_type": "markdown",
      "metadata": {
        "id": "iWDs84CenvSa",
        "colab_type": "text"
      },
      "source": [
        "---\n",
        "\n",
        "#### List comprehension\n",
        "- When programming, frequently we want to transform one type of data into another. For example, consider the following code that computes square numbers:"
      ]
    },
    {
      "cell_type": "code",
      "metadata": {
        "id": "ibB6CHc6mQQl",
        "colab_type": "code",
        "colab": {}
      },
      "source": [
        "nums, squares = [0, 1, 2, 3, 4], []\n",
        "for x in nums:\n",
        "    squares.append(x ** 2)"
      ],
      "execution_count": 0,
      "outputs": []
    },
    {
      "cell_type": "markdown",
      "metadata": {
        "id": "wwTqitnemQWP",
        "colab_type": "text"
      },
      "source": [
        "- You can make this code simpler using a **list comprehension**:"
      ]
    },
    {
      "cell_type": "code",
      "metadata": {
        "id": "LLCvjGykmQbr",
        "colab_type": "code",
        "colab": {}
      },
      "source": [
        "nums = [0, 1, 2, 3, 4]\n",
        "squares = [x ** 2 for x in nums]"
      ],
      "execution_count": 0,
      "outputs": []
    },
    {
      "cell_type": "markdown",
      "metadata": {
        "id": "RSoNTe9RmQiX",
        "colab_type": "text"
      },
      "source": [
        "- List comprehensions can also contain conditions:"
      ]
    },
    {
      "cell_type": "code",
      "metadata": {
        "id": "i4M3FA-omQoG",
        "colab_type": "code",
        "colab": {}
      },
      "source": [
        "nums = [0, 1, 2, 3, 4]\n",
        "even_squares = [x ** 2 for x in nums if x % 2 == 0]"
      ],
      "execution_count": 0,
      "outputs": []
    },
    {
      "cell_type": "markdown",
      "metadata": {
        "id": "jXCSVTuqmQt-",
        "colab_type": "text"
      },
      "source": [
        "#### Dictionaries\n",
        "A dictionary stores (key, value) pairs, similar to a `Map` in Java or an object in Javascript. You can use it like this:"
      ]
    },
    {
      "cell_type": "code",
      "metadata": {
        "id": "3xspXF0ymQzl",
        "colab_type": "code",
        "colab": {
          "base_uri": "https://localhost:8080/",
          "height": 71
        },
        "outputId": "25ed9b73-46fb-40cf-8c26-873eb317f8e9"
      },
      "source": [
        "d = {'cat': 'cute', 'dog': 'furry'}  # Create a new dictionary with some data\n",
        "\n",
        "\n",
        "print(d['cat'])       # Get an entry from a dictionary; prints \"cute\"\n",
        "print('cat' in d) \n",
        "\n",
        "\n",
        "d['fish'] = 'wet'     # Set an entry in a dictionary\n",
        "print(d['fish'])      # Prints \"wet\""
      ],
      "execution_count": 12,
      "outputs": [
        {
          "output_type": "stream",
          "text": [
            "cute\n",
            "True\n",
            "wet\n"
          ],
          "name": "stdout"
        }
      ]
    },
    {
      "cell_type": "markdown",
      "metadata": {
        "id": "AyRXgRXXmQ7o",
        "colab_type": "text"
      },
      "source": [
        "It is easy to iterate over the keys in a dictionary:"
      ]
    },
    {
      "cell_type": "code",
      "metadata": {
        "id": "xWBFLljgmRA7",
        "colab_type": "code",
        "colab": {
          "base_uri": "https://localhost:8080/",
          "height": 71
        },
        "outputId": "3490c39c-9511-494b-932e-2b96d2f1dd20"
      },
      "source": [
        "d = {'person': 2, 'cat': 4, 'spider': 8}\n",
        "for animal in d:\n",
        "    legs = d[animal]\n",
        "    print('A %s has %d legs' % (animal, legs))"
      ],
      "execution_count": 13,
      "outputs": [
        {
          "output_type": "stream",
          "text": [
            "A person has 2 legs\n",
            "A cat has 4 legs\n",
            "A spider has 8 legs\n"
          ],
          "name": "stdout"
        }
      ]
    },
    {
      "cell_type": "markdown",
      "metadata": {
        "id": "h5SRDuNdmRGz",
        "colab_type": "text"
      },
      "source": [
        "---\n",
        "## Basic Python : Functions\n",
        "Python functions are defined using the `def` keyword. For example:"
      ]
    },
    {
      "cell_type": "code",
      "metadata": {
        "id": "QiPtM4XemRMf",
        "colab_type": "code",
        "colab": {
          "base_uri": "https://localhost:8080/",
          "height": 71
        },
        "outputId": "0794c916-761b-42eb-eca5-23a0b53d797a"
      },
      "source": [
        "def sign(x):\n",
        "    if x > 0:\n",
        "        return 'positive'\n",
        "    elif x < 0:\n",
        "        return 'negative'\n",
        "    else:\n",
        "        return 'zero'\n",
        "\n",
        "for x in [-1, 0, 1]:\n",
        "    print(sign(x))"
      ],
      "execution_count": 14,
      "outputs": [
        {
          "output_type": "stream",
          "text": [
            "negative\n",
            "zero\n",
            "positive\n"
          ],
          "name": "stdout"
        }
      ]
    },
    {
      "cell_type": "markdown",
      "metadata": {
        "id": "smkR5uSDmRVe",
        "colab_type": "text"
      },
      "source": [
        "We will often define functions to take optional keyword arguments, like this:"
      ]
    },
    {
      "cell_type": "code",
      "metadata": {
        "id": "PjYAnktLmRb7",
        "colab_type": "code",
        "colab": {}
      },
      "source": [
        "def hello(name, loud=False):\n",
        "    if loud:\n",
        "        print('HELLO, %s' % name.upper())\n",
        "    else:\n",
        "        print('Hello, %s!' % name)"
      ],
      "execution_count": 0,
      "outputs": []
    },
    {
      "cell_type": "code",
      "metadata": {
        "id": "qE_hIcfSoKy6",
        "colab_type": "code",
        "colab": {
          "base_uri": "https://localhost:8080/",
          "height": 53
        },
        "outputId": "d7b5100e-dbdf-48aa-b2bf-14dff4236f2a"
      },
      "source": [
        "hello('Bob')\n",
        "hello('Fred', loud=True)"
      ],
      "execution_count": 16,
      "outputs": [
        {
          "output_type": "stream",
          "text": [
            "Hello, Bob!\n",
            "HELLO, FRED\n"
          ],
          "name": "stdout"
        }
      ]
    },
    {
      "cell_type": "markdown",
      "metadata": {
        "id": "7CG3gv73mRil",
        "colab_type": "text"
      },
      "source": [
        "# Challenge\n",
        "# Write this as a python function $\\rightarrow$ $\\Sigma_i i^2$\n",
        "```python\n",
        "def sigma(i):\n",
        "    bla bla bla...\n",
        "```\n",
        "```python\n",
        "sigma(2)\n",
        "```"
      ]
    },
    {
      "cell_type": "markdown",
      "metadata": {
        "id": "jEwiCkPMoPXq",
        "colab_type": "text"
      },
      "source": [
        "---\n",
        "## Basic Python : Classes and object oriented programming\n",
        "* The syntax for defining classes in Python is straightforward.\n",
        "* Remember to include `self` as the first parameter of the class methods.\n"
      ]
    },
    {
      "cell_type": "code",
      "metadata": {
        "id": "oTpcxbAFmRo1",
        "colab_type": "code",
        "colab": {}
      },
      "source": [
        "class Greeter():\n",
        "    # Constructor\n",
        "    def __init__(self, name):\n",
        "        self.name = name  # Create an instance variable\n",
        "\n",
        "    # Instance method\n",
        "    def greet(self, loud=False):\n",
        "        if loud:\n",
        "            print('HELLO, %s!' % self.name.upper())\n",
        "        else:\n",
        "            print('Hello, %s' % self.name)"
      ],
      "execution_count": 0,
      "outputs": []
    },
    {
      "cell_type": "code",
      "metadata": {
        "id": "KQvuo0jBoWBh",
        "colab_type": "code",
        "colab": {
          "base_uri": "https://localhost:8080/",
          "height": 53
        },
        "outputId": "1eea0afb-3c69-47bc-f950-21eea145b0a5"
      },
      "source": [
        "g = Greeter('Fred')  # Construct an instance of the Greeter class\n",
        "g.greet()            # Call an instance method; prints \"Hello, Fred\"\n",
        "g.greet(loud=True)   # Call an instance method; prints \"HELLO, FRED!\""
      ],
      "execution_count": 18,
      "outputs": [
        {
          "output_type": "stream",
          "text": [
            "Hello, Fred\n",
            "HELLO, FRED!\n"
          ],
          "name": "stdout"
        }
      ]
    },
    {
      "cell_type": "markdown",
      "metadata": {
        "id": "8BWkAWRmmRva",
        "colab_type": "text"
      },
      "source": [
        "- A class also can be inherited to another class"
      ]
    },
    {
      "cell_type": "code",
      "metadata": {
        "id": "syRFr1JymR28",
        "colab_type": "code",
        "colab": {}
      },
      "source": [
        "class Question(Greeter):\n",
        "    def ___init__(self, name):\n",
        "        super(Question, self).__init__(name)\n",
        "\n",
        "    def ask(self):\n",
        "        print('Are you %s?' % self.name)"
      ],
      "execution_count": 0,
      "outputs": []
    },
    {
      "cell_type": "code",
      "metadata": {
        "id": "hDHjCV6Voms6",
        "colab_type": "code",
        "colab": {
          "base_uri": "https://localhost:8080/",
          "height": 35
        },
        "outputId": "98c8b0d5-97e7-4c50-8c16-cd7372695ddf"
      },
      "source": [
        "q = Question('Fred')\n",
        "q.ask()"
      ],
      "execution_count": 20,
      "outputs": [
        {
          "output_type": "stream",
          "text": [
            "Are you Fred?\n"
          ],
          "name": "stdout"
        }
      ]
    },
    {
      "cell_type": "markdown",
      "metadata": {
        "id": "CIypayOrmR9B",
        "colab_type": "text"
      },
      "source": [
        "---\n",
        "\n",
        "## Basic Python : Import statement\n",
        "* We have seen already the `import` statement in action. \n",
        "* Python has a huge number of libraries included with the distribution. \n",
        "* Most of these variables and functions are not accessible from a normal Python interactive session. \n",
        "* Instead, you have to import them.\n",
        "* You can also make your own module\n",
        "* Browse here : https://pypi.org/\n",
        "---\n",
        "\n",
        "## Machine Learning Framework\n",
        "![bg split right:60% contain](img/comnparison.png)\n",
        "\n",
        "- **TensorFlow** by Google\n",
        "- **Keras** by Francois Chollet\n",
        "- **PyTorch** by Facebook\n",
        "\n",
        "---\n",
        "\n",
        "#### One of PyTorch feature <sup>... that's loved by researchers</sup>\n",
        "## Autograd\n",
        "- To help us to praise this feature, let's do some **basic math** beforehand\n",
        "- Solve these !\n",
        "$$f(x, y) = xy \\qquad \\frac{\\partial}{\\partial x}f(3) = \\,?$$\n",
        "\n",
        "---\n",
        "\n",
        "## Solution\n",
        "$$\\frac{\\partial}{\\partial x}f(x, y) = y \\qquad \\rightarrow \\qquad \\frac{\\partial}{\\partial x}f(1, 2) = 3$$\n",
        "\n",
        "## Quite easy, right?\n",
        "---\n",
        "# Challenge\n",
        "## How about...\n",
        "$$g(x,y) = xy^2 - x^2y \\qquad\\frac{\\partial}{\\partial x}g(2, 5)=\\,?$$\n",
        "---\n",
        "## Here is Pytorch come to the play!\n",
        "- Import the library"
      ]
    },
    {
      "cell_type": "code",
      "metadata": {
        "id": "Kudrmc1jmSDj",
        "colab_type": "code",
        "colab": {}
      },
      "source": [
        "import torch"
      ],
      "execution_count": 0,
      "outputs": []
    },
    {
      "cell_type": "markdown",
      "metadata": {
        "id": "HBpCZ_-ysMgI",
        "colab_type": "text"
      },
      "source": [
        "- Declare our variable and function"
      ]
    },
    {
      "cell_type": "code",
      "metadata": {
        "id": "D9PGfzM0sPfx",
        "colab_type": "code",
        "colab": {}
      },
      "source": [
        "x = torch.tensor(1.0, requires_grad = True)\n",
        "y = torch.tensor(2.0)\n",
        "f = x*y"
      ],
      "execution_count": 0,
      "outputs": []
    },
    {
      "cell_type": "markdown",
      "metadata": {
        "id": "k-uV_QUPsOYM",
        "colab_type": "text"
      },
      "source": [
        "- Get our number"
      ]
    },
    {
      "cell_type": "code",
      "metadata": {
        "id": "20tkWu4asOfd",
        "colab_type": "code",
        "colab": {
          "base_uri": "https://localhost:8080/",
          "height": 35
        },
        "outputId": "b8c5efc6-d27b-46a0-edfb-f9908430f772"
      },
      "source": [
        "f.backward()\n",
        "print(x.grad.data)"
      ],
      "execution_count": 23,
      "outputs": [
        {
          "output_type": "stream",
          "text": [
            "tensor(2.)\n"
          ],
          "name": "stdout"
        }
      ]
    },
    {
      "cell_type": "markdown",
      "metadata": {
        "id": "JkBDs2IGsOm3",
        "colab_type": "text"
      },
      "source": [
        "---\n",
        "# Challenge\n",
        "## Solve this with Pytorch\n",
        "$$g(x,y) = xy^2 - x^2y \\qquad\\frac{\\partial}{\\partial x}g(2, 5)=\\,?$$\n",
        "---\n",
        "# Now we're set!\n",
        "## Preparation\n",
        "- Open Google Colab\n",
        "- Put this on the cell in case we need them during the course"
      ]
    },
    {
      "cell_type": "code",
      "metadata": {
        "id": "9-ZWHTSesMpy",
        "colab_type": "code",
        "colab": {}
      },
      "source": [
        "import random, math\n",
        "import numpy as np\n",
        "import matplotlib.pyplot as plt\n",
        "import matplotlib.cm as cm\n",
        "import torch\n",
        "import torch.nn as nn\n",
        "import torch.nn.functional as F\n",
        "import torch.optim as optim\n",
        "from torch.autograd import Variable\n",
        "import torchvision.transforms as transforms\n",
        "import torchvision.datasets as dsets\n",
        "\n",
        "%matplotlib inline"
      ],
      "execution_count": 0,
      "outputs": []
    },
    {
      "cell_type": "markdown",
      "metadata": {
        "id": "GPSBImnAsMwF",
        "colab_type": "text"
      },
      "source": [
        "---\n",
        "# Hold on!\n",
        "## Definition\n",
        "\n",
        "- **Machine Learning  (ML)** : A subset of artificial intelligence involved with the creation of algorithms which can modify itself without human intervention to produce desired output- by feeding itself through structured data.\n",
        "- **Deep Learning** : Same, but has numerous layers\n",
        "\n",
        "---\n",
        "\n",
        "## Definition (cntd.)\n",
        "<br>\n",
        "\n",
        "![](https://raw.githubusercontent.com/linerocks/vibrastic101/master/img/machine-learning.png)\n",
        "\n",
        "---\n",
        "\n",
        "## Highlight\n",
        "- **Learning** : Construction and study of systems that can learn from data.\n",
        "- **Adaptation** : The capacity to adapt implies to be able to modify what has been learn in order to cope with those modifications.\n",
        "- **Flexibility and robustness** : Self-organization\n",
        "- **Provide explanations** : Explanations are necessary to validate and find directions for improvement.\n",
        "- **Discovery/creativity** : Capacity of discovering processes and/or relations previously unknown\n",
        "\n",
        "---\n",
        "\n",
        "## In other words\n",
        "\n",
        "* Having a **process** $\\vec{F}:\\mathcal{D}\\rightarrow\\mathcal{I}$ that **transforms** a given $\\vec{x}\\in\\mathcal{D}$ in a $\\vec{y}$. \n",
        "* Construct on a dataset $\\Psi=\\left\\{\\left<\\vec{x}_i,\\vec{y}_i\\right>\\right\\}$ with $i=1,\\ldots,N$.\n",
        "* Each $\\left<\\vec{x}_i,\\vec{y}_i\\right>$ represents an **input** and its corresponding **expected output**: $\\vec{y}_i=\\vec{F}\\left(\\vec{x}_i\\right)$.\n",
        "* **Optimize** a **model** $\\mathcal{M}(\\vec{x};\\vec{\\theta})$ by adjusting its parameters $\\vec{\\theta}$.\n",
        "    * Make $\\mathcal{M}()$ to be as similar as possible to $\\vec{F}()$ by optimizing one or more error (loss) functions.\n",
        "\n",
        "---\n",
        "\n",
        "## Classification of ML\n",
        "\n",
        "* **Classification**: $\\vec{F}: \\mathcal{D}\\rightarrow\\left\\{1,\\ldots, k\\right\\}$; $\\vec{F}(\\cdot)$ defines 'categories' or 'classes' labels.\n",
        "* **Regression**: $\\vec{F}: \\mathbb{R}^n\\rightarrow\\mathbb{R}$; it is necessary to predict a real-valued output instead of categories.\n",
        "* **Clustering**: group a set of objects in such a way that objects in the same group (*cluster*) are more *similar* to each other than to those in other groups (clusters).\n",
        "* **Synthesis**: generate new examples that are similar to those in the training data\n",
        "\n",
        "---\n",
        "\n",
        "## Classification of ML (cntd.)\n",
        "\n",
        "<img width=\"80%\" style=\"margin-left:100px\" src=\"http://scikit-learn.org/stable/_static/ml_map.png\"/>\n",
        "\n",
        "---\n",
        "\n",
        "## Classification of ML (cntd.)\n",
        "\n",
        "<img width=\"65%\" style=\"margin-left:100px\" src=\"https://raw.githubusercontent.com/linerocks/vibrastic101/master/img/ml.png\"/>\n",
        "\n",
        "---\n",
        "\n",
        "## Another Classification of ML\n",
        "\n",
        "- **Supervised Learning** : Allows you to collect data or produce a data output from the previous experience.\n",
        "- **Unsupervised Learning** : Finds all kind of unknown patterns in data.\n",
        "- **Reinforced Learning** : It can be understood using the concepts of agents, environments, states, actions and rewards.\n",
        "\n",
        "---\n",
        "\n",
        "## Supervised Learning <sup>hands on</sup>\n",
        "\n",
        "* Sometimes we can observe the pairs $\\left<\\vec{x}_i,\\vec{y}_i\\right>$:\n",
        "* We can use the $\\vec{y}_i$'s to provide a *scalar feedback* on how good is the model $\\mathcal{M}(\\vec{x};\\vec{\\theta})$.\n",
        "* That feed back is known as the *loss function*.\n",
        "* Modify parameters $\\vec{\\theta}$ as to improve $\\mathcal{M}(\\vec{x};\\vec{\\theta})$ $\\rightarrow$ *learning*.\n",
        "---\n",
        "- import library"
      ]
    },
    {
      "cell_type": "code",
      "metadata": {
        "id": "a1nEGuxjsM3b",
        "colab_type": "code",
        "colab": {}
      },
      "source": [
        "import random\n",
        "import numpy as np\n",
        "import matplotlib.pyplot as plt"
      ],
      "execution_count": 0,
      "outputs": []
    },
    {
      "cell_type": "markdown",
      "metadata": {
        "id": "K4kM_XGSsM-u",
        "colab_type": "text"
      },
      "source": [
        "- replicable random seed"
      ]
    },
    {
      "cell_type": "code",
      "metadata": {
        "id": "oICgMCzpsNF1",
        "colab_type": "code",
        "colab": {}
      },
      "source": [
        "random.seed(42)"
      ],
      "execution_count": 0,
      "outputs": []
    },
    {
      "cell_type": "markdown",
      "metadata": {
        "id": "dVYydMLksNMm",
        "colab_type": "text"
      },
      "source": [
        "- create input"
      ]
    },
    {
      "cell_type": "code",
      "metadata": {
        "id": "7_oVUlWUsNT_",
        "colab_type": "code",
        "colab": {}
      },
      "source": [
        "x = np.arange(100)"
      ],
      "execution_count": 0,
      "outputs": []
    },
    {
      "cell_type": "markdown",
      "metadata": {
        "id": "fLEtwG-1sNbZ",
        "colab_type": "text"
      },
      "source": [
        "---\n",
        "\n",
        "- let's suppose that we have a phenomenon such that $y_\\text{real} = \\sin\\left(\\frac{\\pi x}{50}\\right)$"
      ]
    },
    {
      "cell_type": "code",
      "metadata": {
        "id": "u78uS2YAsNic",
        "colab_type": "code",
        "colab": {}
      },
      "source": [
        "y_real = np.sin(x*np.pi/50)"
      ],
      "execution_count": 0,
      "outputs": []
    },
    {
      "cell_type": "markdown",
      "metadata": {
        "id": "F51Rs0OQsNpV",
        "colab_type": "text"
      },
      "source": [
        "- introducing some uniform random noise to simulate measurement noise"
      ]
    },
    {
      "cell_type": "code",
      "metadata": {
        "id": "ccmXMmYNsNwj",
        "colab_type": "code",
        "colab": {}
      },
      "source": [
        "y_measured = y_real + (np.random.rand(100) - 0.5)"
      ],
      "execution_count": 0,
      "outputs": []
    },
    {
      "cell_type": "markdown",
      "metadata": {
        "id": "-5v0spN5sN4M",
        "colab_type": "text"
      },
      "source": [
        "- plot the real vs measured"
      ]
    },
    {
      "cell_type": "code",
      "metadata": {
        "id": "ToFeJZzCsN_R",
        "colab_type": "code",
        "colab": {
          "base_uri": "https://localhost:8080/",
          "height": 283
        },
        "outputId": "1b5c7fe8-ce8f-4106-a8fc-2e030bc8a74c"
      },
      "source": [
        "plt.scatter(x,y_measured, marker='.', color='b', label='measured')\n",
        "plt.plot(x,y_real, color='r', label='real')\n",
        "plt.xlabel('x'); plt.ylabel('y'); plt.legend(frameon=True);"
      ],
      "execution_count": 31,
      "outputs": [
        {
          "output_type": "display_data",
          "data": {
            "image/png": "[encoded data removed]",
            "text/plain": [
              "<Figure size 432x288 with 1 Axes>"
            ]
          },
          "metadata": {
            "tags": []
          }
        }
      ]
    },
    {
      "cell_type": "markdown",
      "metadata": {
        "id": "_15GCd7msOF-",
        "colab_type": "text"
      },
      "source": [
        "---\n",
        "\n",
        "- let's use one of supervised method : Support Vector Machine"
      ]
    },
    {
      "cell_type": "code",
      "metadata": {
        "id": "T04t1i0MsOMx",
        "colab_type": "code",
        "colab": {}
      },
      "source": [
        "from sklearn.svm import SVR\n",
        "clf = SVR() # using default parameters"
      ],
      "execution_count": 0,
      "outputs": []
    },
    {
      "cell_type": "markdown",
      "metadata": {
        "id": "6MG_PW7KtQQJ",
        "colab_type": "text"
      },
      "source": [
        "- training"
      ]
    },
    {
      "cell_type": "code",
      "metadata": {
        "id": "HvpBiJO2tQaS",
        "colab_type": "code",
        "colab": {
          "base_uri": "https://localhost:8080/",
          "height": 127
        },
        "outputId": "75921676-d385-4bd9-b70f-9125e95c0bd5"
      },
      "source": [
        "clf.fit(x.reshape(-1, 1), y_measured)"
      ],
      "execution_count": 33,
      "outputs": [
        {
          "output_type": "stream",
          "text": [
            "/usr/local/lib/python3.6/dist-packages/sklearn/svm/base.py:193: FutureWarning: The default value of gamma will change from 'auto' to 'scale' in version 0.22 to account better for unscaled features. Set gamma explicitly to 'auto' or 'scale' to avoid this warning.\n",
            "  \"avoid this warning.\", FutureWarning)\n"
          ],
          "name": "stderr"
        },
        {
          "output_type": "execute_result",
          "data": {
            "text/plain": [
              "SVR(C=1.0, cache_size=200, coef0=0.0, degree=3, epsilon=0.1,\n",
              "    gamma='auto_deprecated', kernel='rbf', max_iter=-1, shrinking=True,\n",
              "    tol=0.001, verbose=False)"
            ]
          },
          "metadata": {
            "tags": []
          },
          "execution_count": 33
        }
      ]
    },
    {
      "cell_type": "markdown",
      "metadata": {
        "id": "yVNg5fSFtQh2",
        "colab_type": "text"
      },
      "source": [
        "- predicting the output"
      ]
    },
    {
      "cell_type": "code",
      "metadata": {
        "id": "vJWkDrnVtQpX",
        "colab_type": "code",
        "colab": {}
      },
      "source": [
        "y_pred = clf.predict(x.reshape(-1, 1))"
      ],
      "execution_count": 0,
      "outputs": []
    },
    {
      "cell_type": "markdown",
      "metadata": {
        "id": "PwJC2F-etQwJ",
        "colab_type": "text"
      },
      "source": [
        "---\n",
        "\n",
        "- plotting the result"
      ]
    },
    {
      "cell_type": "code",
      "metadata": {
        "id": "byqNRvYZtQ3L",
        "colab_type": "code",
        "colab": {
          "base_uri": "https://localhost:8080/",
          "height": 283
        },
        "outputId": "08747083-d913-4811-f5c1-7670e8e1f03f"
      },
      "source": [
        "plt.scatter(x, y_measured, marker='.', color='blue', label='measured')\n",
        "plt.plot(x, y_pred, 'g--', label='predicted')\n",
        "plt.xlabel('X'); plt.ylabel('y'); plt.legend(frameon=True);"
      ],
      "execution_count": 35,
      "outputs": [
        {
          "output_type": "display_data",
          "data": {
            "image/png": "[encoded data removed]",
            "text/plain": [
              "<Figure size 432x288 with 1 Axes>"
            ]
          },
          "metadata": {
            "tags": []
          }
        }
      ]
    },
    {
      "cell_type": "markdown",
      "metadata": {
        "id": "jqHtIW8btQ-G",
        "colab_type": "text"
      },
      "source": [
        "- We observe for the first time an important negative phenomenon: overfitting.\n",
        "\n",
        "---\n",
        "\n",
        "- We will be dedicating part of the course to the methods that we have for control overfitting."
      ]
    },
    {
      "cell_type": "code",
      "metadata": {
        "id": "P9uS5D1itRFn",
        "colab_type": "code",
        "colab": {
          "base_uri": "https://localhost:8080/",
          "height": 53
        },
        "outputId": "61e9864b-3793-4d38-b87b-c19efbc75918"
      },
      "source": [
        "clf = SVR(C=1e3, gamma=0.0001)\n",
        "clf.fit(x.reshape(-1, 1), y_measured)"
      ],
      "execution_count": 36,
      "outputs": [
        {
          "output_type": "execute_result",
          "data": {
            "text/plain": [
              "SVR(C=1000.0, cache_size=200, coef0=0.0, degree=3, epsilon=0.1, gamma=0.0001,\n",
              "    kernel='rbf', max_iter=-1, shrinking=True, tol=0.001, verbose=False)"
            ]
          },
          "metadata": {
            "tags": []
          },
          "execution_count": 36
        }
      ]
    },
    {
      "cell_type": "markdown",
      "metadata": {
        "id": "X3kAxZa0tRNX",
        "colab_type": "text"
      },
      "source": [
        "- predicting the output"
      ]
    },
    {
      "cell_type": "code",
      "metadata": {
        "id": "UlpMM0GytRVj",
        "colab_type": "code",
        "colab": {}
      },
      "source": [
        "y_pred_ok = clf.predict(x.reshape(-1, 1))"
      ],
      "execution_count": 0,
      "outputs": []
    },
    {
      "cell_type": "markdown",
      "metadata": {
        "id": "x0eUVEQ_tRcR",
        "colab_type": "text"
      },
      "source": [
        "- plotting the result"
      ]
    },
    {
      "cell_type": "code",
      "metadata": {
        "id": "oWVjzMz_tRjp",
        "colab_type": "code",
        "colab": {
          "base_uri": "https://localhost:8080/",
          "height": 283
        },
        "outputId": "50cdf348-1415-4fa0-c553-02ea7504289f"
      },
      "source": [
        "plt.scatter(x, y_measured, marker='.', color='b', label='measured')\n",
        "plt.plot(x, y_pred, 'g--', label='overfitted')\n",
        "plt.plot(x, y_pred_ok, 'm-', label='not overfitted')\n",
        "plt.xlabel('X'); plt.ylabel('y'); plt.legend(frameon=True);"
      ],
      "execution_count": 38,
      "outputs": [
        {
          "output_type": "display_data",
          "data": {
            "image/png": "[encoded data removed]",
            "text/plain": [
              "<Figure size 432x288 with 1 Axes>"
            ]
          },
          "metadata": {
            "tags": []
          }
        }
      ]
    },
    {
      "cell_type": "markdown",
      "metadata": {
        "id": "yYVn9-MutRrU",
        "colab_type": "text"
      },
      "source": [
        "\n",
        "---\n",
        "\n",
        "## Unsupervised Learning\n",
        "\n",
        "In some cases we can just observe a series of items or values, e.g., $\\Psi=\\left\\{\\vec{x}_i\\right\\}$:\n",
        "* It is necessary to find the *hidden structure* of *unlabeled data*.\n",
        "* We need a measure of correctness of the model that does not requires an expected outcome.\n",
        "* Although, at first glance, it may look a bit awkward, this type of problem is very common.   \n",
        "* Related to anomaly detection, clustering, etc.\n",
        "    \n",
        "---\n",
        "\n",
        "- Let's generate a dataset that is composed by three groups or clusters of elements, $\\vec{x}\\in\\mathbb{R}^2$. "
      ]
    },
    {
      "cell_type": "code",
      "metadata": {
        "id": "D6qDzuJatRzM",
        "colab_type": "code",
        "colab": {}
      },
      "source": [
        "x_1 = np.random.randn(30,2) + (5,5)\n",
        "x_2 = np.random.randn(30,2) + (10,0)\n",
        "x_3 = np.random.randn(30,2) + (0,2)"
      ],
      "execution_count": 0,
      "outputs": []
    },
    {
      "cell_type": "markdown",
      "metadata": {
        "id": "X-5-TMoUtR6U",
        "colab_type": "text"
      },
      "source": [
        "- See the plot"
      ]
    },
    {
      "cell_type": "code",
      "metadata": {
        "id": "xIZrjcd7uFm9",
        "colab_type": "code",
        "colab": {
          "base_uri": "https://localhost:8080/",
          "height": 297
        },
        "outputId": "0b5b2657-8439-42ee-8ccd-81f2bf8528e0"
      },
      "source": [
        "plt.scatter(x_1[:,0], x_1[:,1], c='red', label='Cluster 1', alpha =0.74)\n",
        "plt.scatter(x_2[:,0], x_2[:,1], c='blue', label='Cluster 2', alpha =0.74)\n",
        "plt.scatter(x_3[:,0], x_3[:,1], c='green', label='Cluster 3', alpha =0.74)\n",
        "plt.legend(frameon=True); plt.xlabel('$x_1$'); plt.ylabel('$x_2$'); \n",
        "plt.title('Three datasets');"
      ],
      "execution_count": 40,
      "outputs": [
        {
          "output_type": "display_data",
          "data": {
            "image/png": "[encoded data removed]",
            "text/plain": [
              "<Figure size 432x288 with 1 Axes>"
            ]
          },
          "metadata": {
            "tags": []
          }
        }
      ]
    },
    {
      "cell_type": "markdown",
      "metadata": {
        "id": "JbBBotgUuFy7",
        "colab_type": "text"
      },
      "source": [
        "- Merge all data "
      ]
    },
    {
      "cell_type": "code",
      "metadata": {
        "id": "tXgO7iojuF8D",
        "colab_type": "code",
        "colab": {}
      },
      "source": [
        "x = np.concatenate(( x_1, x_2, x_3), axis=0)"
      ],
      "execution_count": 0,
      "outputs": []
    },
    {
      "cell_type": "markdown",
      "metadata": {
        "id": "pH9xUl88uGEK",
        "colab_type": "text"
      },
      "source": [
        "- See the plot"
      ]
    },
    {
      "cell_type": "code",
      "metadata": {
        "id": "sznjg7nVuGMB",
        "colab_type": "code",
        "colab": {
          "base_uri": "https://localhost:8080/",
          "height": 281
        },
        "outputId": "58af6a3e-7301-47aa-e05e-f0699b9306c0"
      },
      "source": [
        "plt.scatter(x[:,0], x[:,1], c='m', alpha =0.74)\n",
        "plt.title('Training dataset');"
      ],
      "execution_count": 42,
      "outputs": [
        {
          "output_type": "display_data",
          "data": {
            "image/png": "[encoded data removed]",
            "text/plain": [
              "<Figure size 432x288 with 1 Axes>"
            ]
          },
          "metadata": {
            "tags": []
          }
        }
      ]
    },
    {
      "cell_type": "markdown",
      "metadata": {
        "id": "6QA6lhskuGSY",
        "colab_type": "text"
      },
      "source": [
        "- let's use one of the unsupervised method : KMeans"
      ]
    },
    {
      "cell_type": "code",
      "metadata": {
        "id": "F37jZoxJuGgh",
        "colab_type": "code",
        "colab": {}
      },
      "source": [
        "from sklearn.cluster import KMeans\n",
        "clus = KMeans(n_clusters=3)"
      ],
      "execution_count": 0,
      "outputs": []
    },
    {
      "cell_type": "markdown",
      "metadata": {
        "id": "Y3aX0KURuGn7",
        "colab_type": "text"
      },
      "source": [
        "- fit and predict the data"
      ]
    },
    {
      "cell_type": "code",
      "metadata": {
        "id": "gvGVJ2_cuGuG",
        "colab_type": "code",
        "colab": {}
      },
      "source": [
        "clus.fit(x)\n",
        "labels_pred = clus.predict(x)"
      ],
      "execution_count": 0,
      "outputs": []
    },
    {
      "cell_type": "markdown",
      "metadata": {
        "id": "u8YAHbfduG18",
        "colab_type": "text"
      },
      "source": [
        "- See the plot"
      ]
    },
    {
      "cell_type": "code",
      "metadata": {
        "id": "rYHVh4n0uG9U",
        "colab_type": "code",
        "colab": {
          "base_uri": "https://localhost:8080/",
          "height": 371
        },
        "outputId": "0aa9aaea-94d2-4a7e-c90c-0f524a6fd92b"
      },
      "source": [
        "cm=iter(plt.cm.Set1(np.linspace(0,1,len(np.unique(labels_pred)))))\n",
        "for label in np.unique(labels_pred):\n",
        "    plt.scatter(x[labels_pred==label][:,0], x[labels_pred==label][:,1],\n",
        "                c=next(cm), alpha =0.74, label='Pred. cluster ' +str(label+1))\n",
        "plt.legend(loc='upper right', bbox_to_anchor=(1.45,1), frameon=True);\n",
        "plt.xlabel('$x_1$'); plt.ylabel('$x_2$'); plt.title('Clusters predicted');"
      ],
      "execution_count": 45,
      "outputs": [
        {
          "output_type": "stream",
          "text": [
            "'c' argument looks like a single numeric RGB or RGBA sequence, which should be avoided as value-mapping will have precedence in case its length matches with 'x' & 'y'.  Please use a 2-D array with a single row if you really want to specify the same RGB or RGBA value for all points.\n",
            "'c' argument looks like a single numeric RGB or RGBA sequence, which should be avoided as value-mapping will have precedence in case its length matches with 'x' & 'y'.  Please use a 2-D array with a single row if you really want to specify the same RGB or RGBA value for all points.\n",
            "'c' argument looks like a single numeric RGB or RGBA sequence, which should be avoided as value-mapping will have precedence in case its length matches with 'x' & 'y'.  Please use a 2-D array with a single row if you really want to specify the same RGB or RGBA value for all points.\n"
          ],
          "name": "stderr"
        },
        {
          "output_type": "display_data",
          "data": {
            "image/png": "[encoded data removed]",
            "text/plain": [
              "<Figure size 432x288 with 1 Axes>"
            ]
          },
          "metadata": {
            "tags": []
          }
        }
      ]
    },
    {
      "cell_type": "markdown",
      "metadata": {
        "id": "UHtyyp8duHDy",
        "colab_type": "text"
      },
      "source": [
        "\n",
        "---\n",
        "\n",
        "## Reinforced Learning\n",
        "\n",
        "* Inspired by behaviorist psychology;\n",
        "* How to take actions in an environment so as to maximize some notion of cumulative reward?\n",
        "* Differs from standard supervised learning in that correct input/output pairs are never presented, \n",
        "* ...nor sub-optimal actions explicitly corrected. \n",
        "* Involves finding a balance between exploration (of uncharted territory) and exploitation (of current knowledge)\n",
        "- see : https://www.youtube.com/watch?v=yEOEqaEgu94 <small>(4 minutes view)</small>\n",
        "\n",
        "---\n",
        "\n",
        "## Remark\n",
        "\n",
        "![](https://raw.githubusercontent.com/linerocks/vibrastic101/master/img/ml-problems.png)\n",
        "\n",
        "---\n",
        "\n",
        "## Let's focus on Artificial Neural Network\n",
        "\n",
        "- Not all methods are applicable in real life\n",
        "- Most featured method\n",
        "- Nature inspired\n",
        "- Efficient computation\n",
        "- Evolutionary optimization\n",
        "\n",
        "---\n",
        "\n",
        "## Artificial Neural Network\n",
        "##### Artificial neuron\n",
        "![](https://raw.githubusercontent.com/linerocks/vibrastic101/master/img/perceptron-diag.png)\n",
        "\n",
        "---\n",
        "\n",
        "## Artificial Neural Network\n",
        "##### Artificial neuron as a neuron abstraction\n",
        "In general terms, an input $\\vec{x}\\in\\mathbb{R}^n$ is multiplied by a weight vector $\\vec{w}$ and added a bias $b$ producing the net activation, $\\text{net}$. $\\text{net}$ is passed to the *activation function* $f()$ that computed the neuron's output $\\hat{y}$.\n",
        "$$\n",
        "\\hat{y} = f\\left(\\text{net}\\right)= f\\left(\\vec{w}\\cdot\\vec{x}+b\\right) = f\\left(\\sum_{i=1}^{n}{w_i x_i + b}\\right).\n",
        "$$\n",
        "\n",
        "---\n",
        "\n",
        "## Artificial Neural Network\n",
        "##### The perceptron\n",
        "The [Perceptron](https://en.wikipedia.org/wiki/Perceptron) and its learning algorithm pioneered the research in neurocomputing.\n",
        "\n",
        "* The perceptron is an algorithm for learning a linear binary classifier. \n",
        "* That is a function that maps its input $\\vec{x}\\in\\mathbb{R}^n$ (a real-valued vector) to an output value $f(\\vec{x})$ (a single binary value) as,\n",
        "\n",
        "$$\n",
        "f(\\vec{x}) = \\begin{cases}\n",
        "                1 & \\text{if }\\vec{w} \\cdot \\vec{x} + b > 0\\,,\\\\\n",
        "                0 & \\text{otherwise};\n",
        "             \\end{cases}\n",
        "$$\n",
        "\n",
        "where $\\vec{w}$ is a vector of real-valued *weights*, $\\vec{w} \\cdot \\vec{x}$ is the *dot product* $\\sum_{i=1}^n w_i x_i$, and $b$ is known as the *bias*. \n",
        "\n",
        "---\n",
        "\n",
        "##### Activation functions\n",
        "##### **Linear Function** ```nn.Linear```\n",
        "\n",
        "![bg right:35% contain](https://raw.githubusercontent.com/linerocks/vibrastic101/master/img/graphsright.png)\n",
        "\n",
        "$$f(x) = x + b$$\n",
        "\n",
        "- Disadvantages\n",
        "    - Not possible to use backpropagation\n",
        "    - All layers of the neural network collapse into one\n",
        "    - Limited power to handle complexity\n",
        "---\n",
        "\n",
        "##### Activation functions\n",
        "##### **Sigmoid Function** ```nn.Sigmoid```\n",
        "\n",
        "![bg right:35% contain](https://raw.githubusercontent.com/linerocks/vibrastic101/master/img/sigmoidlogisticgraph.png)\n",
        "\n",
        "$$f(x) = \\frac{1}{1+e^{-x}}$$\n",
        "\n",
        "- Advantages\n",
        "    - Smooth gradient\n",
        "    - Clear predictions\n",
        "\n",
        "- Disadvantages\n",
        "    - Vanishing gradient\n",
        "    - Outputs not zero centered\n",
        "    - Computationally expensive\n",
        "---\n",
        "\n",
        "##### Activation functions\n",
        "##### **Hyperbolic Tangent Function** ```nn.Tanh```\n",
        "\n",
        "![bg right:35% contain](https://raw.githubusercontent.com/linerocks/vibrastic101/master/img/sigmoidlogisticgraph.png)\n",
        "\n",
        "$$f(x) = \\frac{e^{x}-e^{-x}}{e^{x}+e^{-x}}$$\n",
        "\n",
        "- Advantages\n",
        "    - Zero centered : strong negative, neutral, and positive values.\n",
        "    - Otherwise like the Sigmoid function.\n",
        "\n",
        "- Disadvantages\n",
        "    - Like the Sigmoid function\n",
        "---\n",
        "\n",
        "##### Activation functions\n",
        "##### **ReLU Function** ```nn.ReLU```\n",
        "\n",
        "![bg right:35% contain](https://raw.githubusercontent.com/linerocks/vibrastic101/master/img/relu.png)\n",
        "\n",
        "$$f(x) = max(0,x)$$\n",
        "\n",
        "- Advantages\n",
        "    - Computationally efficient : network converge very quickly\n",
        "    - Non-linear : allows for backpropagation\n",
        "\n",
        "- Disadvantages\n",
        "    - The Dying ReLU problem\n",
        "---\n",
        "\n",
        "##### Activation functions\n",
        "##### **Leaky ReLU Function** ```nn.LeakyReLU```\n",
        "\n",
        "![bg right:35% contain](https://raw.githubusercontent.com/linerocks/vibrastic101/master/img/leakyrelu.png)\n",
        "\n",
        "$$f(x) = max(0,x)$$\n",
        "\n",
        "- Advantages\n",
        "    - Prevents dying ReLU problem\n",
        "    - Otherwise like ReLU\n",
        "\n",
        "- Disadvantages\n",
        "    - Results not consistent\n",
        "    \n",
        "---\n",
        "\n",
        "##### Activation functions\n",
        "##### **Sotmax Function** ```nn.Softmax```\n",
        "\n",
        "![bg right:35% contain](https://raw.githubusercontent.com/linerocks/vibrastic101/master/img/sigmoidlogisticgraph.png)\n",
        "\n",
        "$$f(x_i) = \\frac{e^{x_i}}{\\sum_{j}{e^{x_j}}}$$\n",
        "\n",
        "- Advantages\n",
        "    - Able to handle multiple classes only one class in other activation functions\n",
        "    - normalizes the outputs for each class between 0 and 1\n",
        "    - Useful for output neurons\n",
        "---\n",
        "\n",
        "## Perceptron learning\n",
        "\n",
        "Learning goes by calculating the prediction of the perceptron, $\\hat{y}$, as\n",
        "\n",
        "$$\\hat{y} = f\\left(\\vec{w}\\cdot\\vec{x} + b) = f( w_{1}x_{1} + w_2x_{2} + \\cdots + w_nx_{n}+b\\right)\\,.$$\n",
        "\n",
        "After that, we update the weights and the bias using the perceptron rule:\n",
        "\n",
        "$$\n",
        "w_i = w_i + \\alpha (y - \\hat{y}) x_{i} \\,,\\  i=1,\\ldots,n\\,;\\\\\n",
        "b = b + \\alpha (y - \\hat{y})\\,.\n",
        "$$\n",
        "\n",
        "Here $\\alpha\\in\\left(0,1\\right]$ is known as the *learning rate*. Or can be further enhanced using momentum :\n",
        "\n",
        "$$\\vec{w}(t+1) = \\vec{w}(t) + \\alpha\\Delta \\vec{w}(t) + \\beta \\Delta \\vec{w}(t-1),$$\n",
        "\n",
        "where $\\beta\\in\\mathbb{R}^+$ is known as the momentum rate.\n",
        "\n",
        "---\n",
        "\n",
        "## Study of Learning Rate $\\alpha$ <sup>hands on</sup>\n",
        "\n",
        "- error function $\\rightarrow$ $E(\\boldsymbol{X}, \\boldsymbol{y};\\boldsymbol{w}) = \\frac{1}{2}\\left\\|\\boldsymbol{X} \\cdot \\boldsymbol{w} - \\boldsymbol{y}\\right\\|^2_2\\,.$"
      ]
    },
    {
      "cell_type": "code",
      "metadata": {
        "id": "d8VqYV0cud4v",
        "colab_type": "code",
        "colab": {}
      },
      "source": [
        "def error(X, y, w):\n",
        "    return 0.5*np.linalg.norm(X.dot(w) - y)**2"
      ],
      "execution_count": 0,
      "outputs": []
    },
    {
      "cell_type": "markdown",
      "metadata": {
        "id": "qx-70cdOueAD",
        "colab_type": "text"
      },
      "source": [
        "- the gradient $\\rightarrow$ $\\nabla \\boldsymbol{w} = \\nabla_{\\boldsymbol{w}} E(\\boldsymbol{X}, \\boldsymbol{y};\\boldsymbol{w}) = \\boldsymbol{X}^T \\cdot (\\boldsymbol{X} \\cdot \\boldsymbol{w} - \\boldsymbol{y})\\,.$"
      ]
    },
    {
      "cell_type": "code",
      "metadata": {
        "id": "bK6uumBaueH6",
        "colab_type": "code",
        "colab": {}
      },
      "source": [
        "def linear_regression_gradient(X, y, w):\n",
        "    return X.T.dot(X.dot(w)-y)"
      ],
      "execution_count": 0,
      "outputs": []
    },
    {
      "cell_type": "markdown",
      "metadata": {
        "id": "eja-JAf-ueRu",
        "colab_type": "text"
      },
      "source": [
        "- gradient descent loop"
      ]
    },
    {
      "cell_type": "code",
      "metadata": {
        "id": "f9bpVw-JueaP",
        "colab_type": "code",
        "colab": {}
      },
      "source": [
        "def gradient_descent(X, y, w_0, alpha, max_iters):\n",
        "    'Returns the values of the weights as learning took place.'\n",
        "    w = np.array(w_0, dtype=np.float64)\n",
        "    w_hist = np.zeros(shape=(max_iters+1, w.shape[0]))\n",
        "    w_hist[0] = w\n",
        "    for i in range(0,max_iters):\n",
        "        delta_weights = -alpha*linear_regression_gradient(X_bias, y, w)\n",
        "        w += delta_weights\n",
        "        w_hist[i+1] = w\n",
        "    return w_hist"
      ],
      "execution_count": 0,
      "outputs": []
    },
    {
      "cell_type": "markdown",
      "metadata": {
        "id": "z34efHXDuein",
        "colab_type": "text"
      },
      "source": [
        "- plot contour"
      ]
    },
    {
      "cell_type": "code",
      "metadata": {
        "id": "idpy0iThueqK",
        "colab_type": "code",
        "colab": {}
      },
      "source": [
        "def plot_contour(X_data, y_data, bounds, resolution=50, \n",
        "                 alpha=0.3, linewidth=5, rstride=1, cstride=5, ax=None):\n",
        "    (minx,miny),(maxx,maxy) = bounds\n",
        "    \n",
        "    x_range = np.linspace(minx, maxx, num=resolution)\n",
        "    y_range = np.linspace(miny, maxy, num=resolution)\n",
        "    X, Y = np.meshgrid(x_range, y_range)\n",
        "    \n",
        "    Z = np.zeros((len(x_range), len(y_range)))\n",
        "    \n",
        "    for i, w_i in enumerate(x_range):\n",
        "        for j, w_j in enumerate(y_range):\n",
        "            Z[j,i] = error(X_data, y_data, [w_i, w_j])\n",
        "    \n",
        "    if not ax:\n",
        "        fig = plt.figure(figsize=(6,6))\n",
        "        ax = fig.gca()\n",
        "        ax.set_aspect('equal')\n",
        "        ax.autoscale(tight=True)\n",
        "    cset = ax.contourf(X, Y, Z, 30, cmap=cmap, rstride=rstride, \n",
        "                       cstride=cstride, linewidth=linewidth, alpha=alpha)\n",
        "    cset = ax.contour(X, Y, Z, 10, cmap=cmap, rstride=rstride, \n",
        "                       cstride=cstride, linewidth=linewidth)\n",
        "    plt.clabel(cset, inline=1, fontsize=7)\n",
        "    return Z"
      ],
      "execution_count": 0,
      "outputs": []
    },
    {
      "cell_type": "markdown",
      "metadata": {
        "id": "gTfUkMeHueyS",
        "colab_type": "text"
      },
      "source": [
        "- try initialize variables"
      ]
    },
    {
      "cell_type": "code",
      "metadata": {
        "id": "wzzU5VvNue6T",
        "colab_type": "code",
        "colab": {
          "base_uri": "https://localhost:8080/",
          "height": 244
        },
        "outputId": "47891516-d8fe-40d2-b937-6fe5a5a2c2f8"
      },
      "source": [
        "X = np.array([[0.0], [1.0], [2.0], [3.0], [4.0]])\n",
        "X_bias = np.hstack((X, np.ones((N, 1))))\n",
        "y = np.array([10.5, 5.0, 3.0, 2.5, 1.0])\n",
        "\n",
        "w_0 = [-3,2]\n",
        "alpha = 0.05\n",
        "max_iters = 25"
      ],
      "execution_count": 51,
      "outputs": [
        {
          "output_type": "error",
          "ename": "NameError",
          "evalue": "ignored",
          "traceback": [
            "\u001b[0;31m---------------------------------------------------------------------------\u001b[0m",
            "\u001b[0;31mNameError\u001b[0m                                 Traceback (most recent call last)",
            "\u001b[0;32m<ipython-input-51-373d1e74f9bd>\u001b[0m in \u001b[0;36m<module>\u001b[0;34m()\u001b[0m\n\u001b[1;32m      1\u001b[0m \u001b[0mX\u001b[0m \u001b[0;34m=\u001b[0m \u001b[0mnp\u001b[0m\u001b[0;34m.\u001b[0m\u001b[0marray\u001b[0m\u001b[0;34m(\u001b[0m\u001b[0;34m[\u001b[0m\u001b[0;34m[\u001b[0m\u001b[0;36m0.0\u001b[0m\u001b[0;34m]\u001b[0m\u001b[0;34m,\u001b[0m \u001b[0;34m[\u001b[0m\u001b[0;36m1.0\u001b[0m\u001b[0;34m]\u001b[0m\u001b[0;34m,\u001b[0m \u001b[0;34m[\u001b[0m\u001b[0;36m2.0\u001b[0m\u001b[0;34m]\u001b[0m\u001b[0;34m,\u001b[0m \u001b[0;34m[\u001b[0m\u001b[0;36m3.0\u001b[0m\u001b[0;34m]\u001b[0m\u001b[0;34m,\u001b[0m \u001b[0;34m[\u001b[0m\u001b[0;36m4.0\u001b[0m\u001b[0;34m]\u001b[0m\u001b[0;34m]\u001b[0m\u001b[0;34m)\u001b[0m\u001b[0;34m\u001b[0m\u001b[0;34m\u001b[0m\u001b[0m\n\u001b[0;32m----> 2\u001b[0;31m \u001b[0mX_bias\u001b[0m \u001b[0;34m=\u001b[0m \u001b[0mnp\u001b[0m\u001b[0;34m.\u001b[0m\u001b[0mhstack\u001b[0m\u001b[0;34m(\u001b[0m\u001b[0;34m(\u001b[0m\u001b[0mX\u001b[0m\u001b[0;34m,\u001b[0m \u001b[0mnp\u001b[0m\u001b[0;34m.\u001b[0m\u001b[0mones\u001b[0m\u001b[0;34m(\u001b[0m\u001b[0;34m(\u001b[0m\u001b[0mN\u001b[0m\u001b[0;34m,\u001b[0m \u001b[0;36m1\u001b[0m\u001b[0;34m)\u001b[0m\u001b[0;34m)\u001b[0m\u001b[0;34m)\u001b[0m\u001b[0;34m)\u001b[0m\u001b[0;34m\u001b[0m\u001b[0;34m\u001b[0m\u001b[0m\n\u001b[0m\u001b[1;32m      3\u001b[0m \u001b[0my\u001b[0m \u001b[0;34m=\u001b[0m \u001b[0mnp\u001b[0m\u001b[0;34m.\u001b[0m\u001b[0marray\u001b[0m\u001b[0;34m(\u001b[0m\u001b[0;34m[\u001b[0m\u001b[0;36m10.5\u001b[0m\u001b[0;34m,\u001b[0m \u001b[0;36m5.0\u001b[0m\u001b[0;34m,\u001b[0m \u001b[0;36m3.0\u001b[0m\u001b[0;34m,\u001b[0m \u001b[0;36m2.5\u001b[0m\u001b[0;34m,\u001b[0m \u001b[0;36m1.0\u001b[0m\u001b[0;34m]\u001b[0m\u001b[0;34m)\u001b[0m\u001b[0;34m\u001b[0m\u001b[0;34m\u001b[0m\u001b[0m\n\u001b[1;32m      4\u001b[0m \u001b[0;34m\u001b[0m\u001b[0m\n\u001b[1;32m      5\u001b[0m \u001b[0mw_0\u001b[0m \u001b[0;34m=\u001b[0m \u001b[0;34m[\u001b[0m\u001b[0;34m-\u001b[0m\u001b[0;36m3\u001b[0m\u001b[0;34m,\u001b[0m\u001b[0;36m2\u001b[0m\u001b[0;34m]\u001b[0m\u001b[0;34m\u001b[0m\u001b[0;34m\u001b[0m\u001b[0m\n",
            "\u001b[0;31mNameError\u001b[0m: name 'N' is not defined"
          ]
        }
      ]
    },
    {
      "cell_type": "markdown",
      "metadata": {
        "id": "Ao0xjxLyufCm",
        "colab_type": "text"
      },
      "source": [
        "- run learning"
      ]
    },
    {
      "cell_type": "code",
      "metadata": {
        "id": "BExG2_1GufLY",
        "colab_type": "code",
        "colab": {
          "base_uri": "https://localhost:8080/",
          "height": 228
        },
        "outputId": "f2b97358-df1a-4c15-d780-b0f8a0036ee7"
      },
      "source": [
        "w_hist = gradient_descent(X_bias, y, w_0, alpha, max_iters)\n",
        "\n",
        "plot_hist_contour(X_bias, y, w_hist, w_norm, title='end='+str(w_hist[-1]), show_legend=True)"
      ],
      "execution_count": 52,
      "outputs": [
        {
          "output_type": "error",
          "ename": "NameError",
          "evalue": "ignored",
          "traceback": [
            "\u001b[0;31m---------------------------------------------------------------------------\u001b[0m",
            "\u001b[0;31mNameError\u001b[0m                                 Traceback (most recent call last)",
            "\u001b[0;32m<ipython-input-52-6fac2bac6a93>\u001b[0m in \u001b[0;36m<module>\u001b[0;34m()\u001b[0m\n\u001b[0;32m----> 1\u001b[0;31m \u001b[0mw_hist\u001b[0m \u001b[0;34m=\u001b[0m \u001b[0mgradient_descent\u001b[0m\u001b[0;34m(\u001b[0m\u001b[0mX_bias\u001b[0m\u001b[0;34m,\u001b[0m \u001b[0my\u001b[0m\u001b[0;34m,\u001b[0m \u001b[0mw_0\u001b[0m\u001b[0;34m,\u001b[0m \u001b[0malpha\u001b[0m\u001b[0;34m,\u001b[0m \u001b[0mmax_iters\u001b[0m\u001b[0;34m)\u001b[0m\u001b[0;34m\u001b[0m\u001b[0;34m\u001b[0m\u001b[0m\n\u001b[0m\u001b[1;32m      2\u001b[0m \u001b[0;34m\u001b[0m\u001b[0m\n\u001b[1;32m      3\u001b[0m \u001b[0mplot_hist_contour\u001b[0m\u001b[0;34m(\u001b[0m\u001b[0mX_bias\u001b[0m\u001b[0;34m,\u001b[0m \u001b[0my\u001b[0m\u001b[0;34m,\u001b[0m \u001b[0mw_hist\u001b[0m\u001b[0;34m,\u001b[0m \u001b[0mw_norm\u001b[0m\u001b[0;34m,\u001b[0m \u001b[0mtitle\u001b[0m\u001b[0;34m=\u001b[0m\u001b[0;34m'end='\u001b[0m\u001b[0;34m+\u001b[0m\u001b[0mstr\u001b[0m\u001b[0;34m(\u001b[0m\u001b[0mw_hist\u001b[0m\u001b[0;34m[\u001b[0m\u001b[0;34m-\u001b[0m\u001b[0;36m1\u001b[0m\u001b[0;34m]\u001b[0m\u001b[0;34m)\u001b[0m\u001b[0;34m,\u001b[0m \u001b[0mshow_legend\u001b[0m\u001b[0;34m=\u001b[0m\u001b[0;32mTrue\u001b[0m\u001b[0;34m)\u001b[0m\u001b[0;34m\u001b[0m\u001b[0;34m\u001b[0m\u001b[0m\n",
            "\u001b[0;31mNameError\u001b[0m: name 'X_bias' is not defined"
          ]
        }
      ]
    },
    {
      "cell_type": "markdown",
      "metadata": {
        "id": "7MUDx7F5ufUE",
        "colab_type": "text"
      },
      "source": [
        "- function to run learning on several alpha"
      ]
    },
    {
      "cell_type": "code",
      "metadata": {
        "id": "GKFiWE3dufbr",
        "colab_type": "code",
        "colab": {}
      },
      "source": [
        "def alphas_study(alphas):\n",
        "    fig = plt.figure(figsize=(11,7))\n",
        "    for i,alpha in enumerate(alphas):\n",
        "        ax = fig.add_subplot(2,3,i+1)\n",
        "        w_hist = gradient_descent(X_bias, y , w_0, alpha, max_iters)\n",
        "        plot_hist_contour(X_bias, y, w_hist, w_norm, ax=ax, title='$\\\\alpha='+str(alpha)+'$') \n",
        "    plt.legend(scatterpoints=1, ncol=3, bbox_to_anchor=(-0.2,-0.2), frameon=True);\n",
        "    plt.tight_layout()"
      ],
      "execution_count": 0,
      "outputs": []
    },
    {
      "cell_type": "markdown",
      "metadata": {
        "id": "VFhInEBbufiz",
        "colab_type": "text"
      },
      "source": [
        "- the alpha"
      ]
    },
    {
      "cell_type": "code",
      "metadata": {
        "id": "9wzFivetufq7",
        "colab_type": "code",
        "colab": {}
      },
      "source": [
        "alphas = np.linspace(0.02,0.07,6)"
      ],
      "execution_count": 0,
      "outputs": []
    },
    {
      "cell_type": "markdown",
      "metadata": {
        "id": "Zz7MlqjeufyJ",
        "colab_type": "text"
      },
      "source": [
        "- study the alpha"
      ]
    },
    {
      "cell_type": "code",
      "metadata": {
        "id": "d9-bhVkIvUXS",
        "colab_type": "code",
        "colab": {}
      },
      "source": [
        "alphas_study(alphas)"
      ],
      "execution_count": 0,
      "outputs": []
    },
    {
      "cell_type": "markdown",
      "metadata": {
        "id": "JM_MZy84vUgv",
        "colab_type": "text"
      },
      "source": [
        "---\n",
        "## Study of Momentum Rate $\\beta$ <sup>hands on</sup>\n",
        "\n",
        "- gradient descent with momentum"
      ]
    },
    {
      "cell_type": "code",
      "metadata": {
        "id": "VPhcLvN7vUpe",
        "colab_type": "code",
        "colab": {}
      },
      "source": [
        "def gradient_descent_with_momentum(X, y, w_0, alpha, beta, max_iters):\n",
        "    w = np.array(w_0, dtype=np.float64)\n",
        "    w_hist = np.zeros(shape=(max_iters+1, w.shape[0]))\n",
        "    w_hist[0] = w\n",
        "    omega = np.zeros_like(w)\n",
        "    for i in range(max_iters): \n",
        "        delta_weights = -alpha*linear_regression_gradient(X, y, w) + beta*omega\n",
        "        omega = delta_weights\n",
        "        w += delta_weights\n",
        "        w_hist[i+1] = w\n",
        "    return w_hist"
      ],
      "execution_count": 0,
      "outputs": []
    },
    {
      "cell_type": "markdown",
      "metadata": {
        "id": "WMw0QVT2vUx-",
        "colab_type": "text"
      },
      "source": [
        "- set the variables"
      ]
    },
    {
      "cell_type": "code",
      "metadata": {
        "id": "gQL-ZiVwvU55",
        "colab_type": "code",
        "colab": {}
      },
      "source": [
        "alpha = 0.05\n",
        "beta = 0.5\n",
        "max_iters = 25"
      ],
      "execution_count": 0,
      "outputs": []
    },
    {
      "cell_type": "markdown",
      "metadata": {
        "id": "zIfmV5wFvVB4",
        "colab_type": "text"
      },
      "source": [
        "- run the momentum learning"
      ]
    },
    {
      "cell_type": "code",
      "metadata": {
        "id": "Fhq_ODeBvVL_",
        "colab_type": "code",
        "colab": {}
      },
      "source": [
        "w_hist = gradient_descent(X_bias, y, (-3,2), alpha, max_iters)\n",
        "w_hist_mom = gradient_descent_with_momentum(X_bias,y, (-3,2), alpha, beta, max_iters)"
      ],
      "execution_count": 0,
      "outputs": []
    },
    {
      "cell_type": "markdown",
      "metadata": {
        "id": "06HDcI2RvVTv",
        "colab_type": "text"
      },
      "source": [
        "- compare plot"
      ]
    },
    {
      "cell_type": "code",
      "metadata": {
        "id": "7ZebNMeavVcN",
        "colab_type": "code",
        "colab": {}
      },
      "source": [
        "def comparison_plot():\n",
        "    fig = plt.figure(figsize=(9,4.5))\n",
        "    ax = fig.add_subplot(121)\n",
        "    plot_hist_contour(X_bias, y, w_hist, \\\n",
        "        w_norm, ax=ax, title='Gradient descent')\n",
        "    ax = fig.add_subplot(122)\n",
        "    plot_hist_contour(X_bias, y, w_hist_mom, \\\n",
        "        w_norm, ax=ax, title='Gradient descent with momentum', show_legend=True) \n",
        "    plt.tight_layout()"
      ],
      "execution_count": 0,
      "outputs": []
    },
    {
      "cell_type": "markdown",
      "metadata": {
        "id": "w4LsQ1jPvVkC",
        "colab_type": "text"
      },
      "source": [
        "- the plot"
      ]
    },
    {
      "cell_type": "code",
      "metadata": {
        "id": "p4ixZ3xPvtld",
        "colab_type": "code",
        "colab": {}
      },
      "source": [
        "comparison_plot()"
      ],
      "execution_count": 0,
      "outputs": []
    },
    {
      "cell_type": "markdown",
      "metadata": {
        "id": "ONBt8BKIvtv4",
        "colab_type": "text"
      },
      "source": [
        "- study alpha and momentum"
      ]
    },
    {
      "cell_type": "code",
      "metadata": {
        "id": "Of6xhbE1vt4v",
        "colab_type": "code",
        "colab": {}
      },
      "source": [
        "def alphas_study_with_momentum(alphas, beta):\n",
        "    fig = plt.figure(figsize=(11,7))\n",
        "    for i,alpha in enumerate(alphas):\n",
        "        ax = fig.add_subplot(2,3,i+1)\n",
        "        w_hist = gradient_descent_with_momentum(X_bias, y , w_0, alpha, beta, max_iters)\n",
        "        plot_hist_contour(X_bias, y, w_hist, w_norm, ax=ax, title='$\\\\alpha='+str(alpha)+'$')  \n",
        "    plt.legend(scatterpoints=1, ncol=3, bbox_to_anchor=(-0.2,-0.2), frameon=True);\n",
        "    plt.tight_layout()"
      ],
      "execution_count": 0,
      "outputs": []
    },
    {
      "cell_type": "markdown",
      "metadata": {
        "id": "h3je3J_lvt_-",
        "colab_type": "text"
      },
      "source": [
        "- run it"
      ]
    },
    {
      "cell_type": "code",
      "metadata": {
        "id": "Whtc4bcrvuIb",
        "colab_type": "code",
        "colab": {}
      },
      "source": [
        "alphas_study_with_momentum(alphas, 0.5)"
      ],
      "execution_count": 0,
      "outputs": []
    },
    {
      "cell_type": "markdown",
      "metadata": {
        "id": "OlpVdyvBvuT5",
        "colab_type": "text"
      },
      "source": [
        "---\n",
        "\n",
        "## Multilayer Perceptron\n",
        "The composition of layers of perceptrons can capture complex relations between inputs and outputs in a hierarchical way. In order to proceed we need to improve the notation we have been using. That for, for each layer $1\\geq l\\geq L$, the activations and outputs are calculated as:\n",
        "\n",
        "$$\\text{net}^l_j = \\sum_i w^l_{ji} x^l_i \\qquad | \\qquad y^l_j = f^l(\\text{net}^l_j)\\,,$$\n",
        "\n",
        "<small>\n",
        "where:\n",
        "\n",
        "* $y^l_j$ is the $j$th output of layer $l$,\n",
        "* $x^l_i$ is the $i$th input to layer $l$,\n",
        "* $w^l_{ji}$ is the weight of the $j$-th neuron connected to input $i$,\n",
        "* $\\text{net}^l_{j}$ is called net activation, and\n",
        "* $f^l(\\cdot)$ is the activation function of layer $l$, e.g. $\\tanh()$, in the hidden layers and the identity in the last layer (for regression)\n",
        "</small>\n",
        "\n",
        "---\n",
        "\n",
        "## Training MLPs with Backpropagation\n",
        "\n",
        "* Backpropagation of errors is a procedure to compute the **gradient of the error function with respect to the weights** of a neural network.\n",
        "* We can use the gradient from backpropagation to apply **gradient descent**!\n",
        "\n",
        "---\n",
        "\n",
        "#### A math flashback\n",
        "\n",
        "The **chain rule** can be applied in composite functions as,\n",
        "$$\n",
        "\\left( f \\circ g\\right)'(x) = \\left(f\\left(g\\left(x\\right)\\right)\\right)'= f'\\left(g(x)\\right)g'(x).\n",
        "$$\n",
        "or, in Leibniz notation,\n",
        "$$\n",
        "\\frac{\\partial f\\left(g\\left(x\\right)\\right)}{\\partial x} =\n",
        "\\frac{\\partial f\\left(g\\left(x\\right)\\right)}{\\partial g\\left(x\\right)} \\cdot\n",
        "\\frac{\\partial g\\left(x\\right)}{\\partial x}\n",
        "$$\n",
        "\n",
        "The **total derivative** of $f(x_1,x_2,...x_n)$ on $x_i$ is\n",
        "$$\n",
        "\\frac{\\partial f}{\\partial x_i}=  \n",
        "\\sum_{j=1}^n{\\frac{\\partial f}{\\partial x_j}\\cdot\\frac{\\partial x_j}{\\partial x_i}}\n",
        "$$\n",
        "\n",
        "---\n",
        "#### To apply gradient descent we need... to calculate the gradients\n",
        "\n",
        "Applying the chain rule,\n",
        "$$\n",
        "\\frac{\\partial \\ell}{\\partial w^l_{ji}}=\n",
        "\\color{blue}{\\overbrace{\\frac{\\partial \\ell}{\\partial \\text{net}^l_j}}^{\\delta^l_j}}\n",
        "\\color{forestgreen}{\\underbrace{\\frac{\\partial{\\text{net}^l_j}}{\\partial w^l_{ji}}}_{\\frac{\\partial\\left(\\sum_{i}w^l_{ji}x^l_i\\right)}{\\partial w^l_{ji}}=x^l_i}}\n",
        "$$\n",
        "hence we can write\n",
        "$$\n",
        "\\frac{\\partial \\ell}{\\partial w^l_{ji}}=\n",
        "\\color{blue}{\\delta^l_j}\n",
        "\\color{forestgreen}{x^l_i}\n",
        "$$\n",
        "---\n",
        "#### What about the hidden layers ($1\\leq l<L$)?\n",
        "\n",
        "We can express the loss $\\ell$ as a function of the activations of the subsequent layer,\n",
        "\n",
        "$$\n",
        "\\ell = \\ell\\left(\\text{net}^{l+1}_1,\\ldots,\\text{net}^{l+1}_K\\right)\\,,\n",
        "$$\n",
        "\n",
        "therefore, applying total derivatives,\n",
        "\n",
        "$$\n",
        "\\frac{\\partial \\ell}{\\partial\\hat{y}^l_j} = \n",
        "\\frac{\\partial \\ell\\left(\\text{net}^{l+1}_1,\\ldots,\\text{net}^{l+1}_K\\right)}{\\partial\\hat{y}^l_j}\\,.\n",
        "$$\n",
        "---\n",
        "#### For the output layer ($l=L$)\n",
        "$$\n",
        "\\delta^L_j = \\frac{\\partial \\ell}{\\partial \\text{net}^L_j} =\n",
        "\\color{red}{\n",
        "  \\overbrace{\n",
        "    \\frac{\\partial \\ell}{\\partial\\hat{y}^L_j}}^{\\frac{\\partial\\left(\\frac{1}{2}\\sum_j{\\left(y_j-\\hat{y}^L_j\\right)^2} \\right)}\n",
        "    {\\partial\\hat{y}^L_j}=\\left(y_j-\\hat{y}^L_j\\right)}}\n",
        "\\cdot\n",
        "\\color{magenta}{\n",
        "\\underbrace{\\frac{\\partial\\hat{y}^L_j}{\\text{net}^l_j}}_{f'(\\text{net}_j^L)}}\n",
        "=\\color{red}{\\left(y_j-\\hat{y}^L_j\\right)}\\color{magenta}{f'(\\text{net}_j^L)}.\n",
        "$$\n",
        "therefore\n",
        "$$\n",
        "\\frac{\\partial \\ell}{\\partial w^L_{ji}}=\n",
        "\\color{red}{\\left(y_j-\\hat{y}^L_j\\right)}\\color{magenta}{f'(\\text{net}_j^L)}\n",
        "\\color{forestgreen}{x^L_i}\n",
        "$$\n",
        "---\n",
        "#### Back-propagating the errors to the hidden layer\n",
        "\n",
        "The $\\delta$s of the subsequent layers are used to calculate the $\\delta$s of the more internal ones.\n",
        "\n",
        "$$\n",
        "\\delta^{l}_j =\n",
        "\\frac{\\partial\\ell}{\\partial\\text{net}^l_j} =\n",
        "\\overbrace{\\frac{\\partial\\ell}{\\partial\\hat{y}^l_j}}^\n",
        "{\\sum_{k}{\n",
        "  \\color{orange}{\\delta^{l+1}_k}\n",
        "  \\color{purple}{w^{l+1}_{kj}}}}\n",
        "\\color{forestgreen}{\\underbrace{\\frac{\\partial\\hat{y}^l_j}{\\partial\\text{net}^l_j}}_\n",
        "{f'(\\text{net}^l_j)}}=\n",
        "\\sum_{k}{\\left(\n",
        "  \\color{orange}{\\delta^{l+1}_k}\n",
        "  \\color{purple}{w^{l+1}_{kj}}\n",
        "  \\right)}\\color{forestgreen}{f'(\\text{net}^l_j)}\n",
        "$$\n",
        "---\n",
        "\n",
        "Briefly, in each layer (we will omit the sample index $k$ and layer $l$)\n",
        "\n",
        "$$\n",
        "\\delta_j = \n",
        "   \\begin{cases}\n",
        "   \\hat{y}_j - y_j & \\text{in the output layer,}\\\\\n",
        "   \\\\ f'(\\text{net}_j) \\sum_k \\frac{\\partial \\ell}{\\partial \\hat{y}_k} & \\text{otherwise.}\n",
        "   \\end{cases}\n",
        "$$\n",
        "\n",
        "$$\\frac{\\partial \\ell}{\\partial w_{ji}} = \\delta_j x_i\\,;\\quad \\frac{\\partial \\ell}{\\partial x_i} = \\delta_j w_{ji}\\,.$$\n",
        "<small>\n",
        "where\n",
        "\n",
        "* all nodes $k$ are in the layer after $j$;\n",
        "* $\\text{net}_j$ is known from propagation: $\\sum_i w_{ji} x_i$;\n",
        "* actually you do not have to save $a_j$ because $g'(a_j)$ usually can be computed from $y_j$, e.g.\n",
        "    * identity function: $f'(\\text{net}_j) = 1$,\n",
        "    * $\\tanh$: $f'(\\text{net}_j) = 1 - y_j^2$;\n",
        "* $\\frac{\\partial \\ell}{\\partial w_{ji}}$ will be used to update the weight $w_{ji}$ in gradient descent;\n",
        "* $\\frac{\\partial \\ell}{\\partial x_i}$ will be passed to the previous layer to compute the deltas;\n",
        "</small>\n",
        "---\n",
        "## Build MLP in PyTorch\n",
        "- Let's create network to model XOR gate\n",
        "![](https://raw.githubusercontent.com/linerocks/vibrastic101/master/img/tiny-dnn-network.png)\n",
        "---\n",
        "- The XOR truth table\n",
        "\n",
        "|x|y|XOR|\n",
        "|:-:|:-:|:-:|\n",
        "|0|0|0|\n",
        "|0|1|1|\n",
        "|1|0|1|\n",
        "|1|1|0|\n",
        "\n",
        "---\n",
        "\n",
        "- Input pair"
      ]
    },
    {
      "cell_type": "code",
      "metadata": {
        "id": "sNmULFLDvuc0",
        "colab_type": "code",
        "colab": {}
      },
      "source": [
        "inputs = list(map(lambda s: Variable(torch.Tensor([s])), [\n",
        "    [0, 0],\n",
        "    [0, 1],\n",
        "    [1, 0],\n",
        "    [1, 1]\n",
        "]))"
      ],
      "execution_count": 0,
      "outputs": []
    },
    {
      "cell_type": "markdown",
      "metadata": {
        "id": "QeiXjEWoxW90",
        "colab_type": "text"
      },
      "source": [
        "- The target"
      ]
    },
    {
      "cell_type": "code",
      "metadata": {
        "id": "HEttbJFMxXEr",
        "colab_type": "code",
        "colab": {}
      },
      "source": [
        "targets = list(map(lambda s: Variable(torch.Tensor([s])), [\n",
        "    [0],\n",
        "    [1],\n",
        "    [1],\n",
        "    [0]\n",
        "]))"
      ],
      "execution_count": 0,
      "outputs": []
    },
    {
      "cell_type": "markdown",
      "metadata": {
        "id": "iYU9l4_yxXNm",
        "colab_type": "text"
      },
      "source": [
        "- The network"
      ]
    },
    {
      "cell_type": "code",
      "metadata": {
        "id": "7bjTybKTxXWG",
        "colab_type": "code",
        "colab": {}
      },
      "source": [
        "class XOR(nn.Module):\n",
        "    def __init__(self):\n",
        "        super(XOR, self).__init__()\n",
        "        self.fc1 = nn.Linear(2, 3, True)\n",
        "        self.fc2 = nn.Linear(3, 1, True)\n",
        "\n",
        "    def forward(self, x):\n",
        "        x = F.sigmoid(self.fc1(x))\n",
        "        x = self.fc2(x)\n",
        "        return x"
      ],
      "execution_count": 0,
      "outputs": []
    },
    {
      "cell_type": "markdown",
      "metadata": {
        "id": "KF1q2MqSxXeE",
        "colab_type": "text"
      },
      "source": [
        "- Initialize the network"
      ]
    },
    {
      "cell_type": "code",
      "metadata": {
        "id": "MEwF9xjZxXkz",
        "colab_type": "code",
        "colab": {}
      },
      "source": [
        "net = XOR()"
      ],
      "execution_count": 0,
      "outputs": []
    },
    {
      "cell_type": "markdown",
      "metadata": {
        "id": "qRpH6gtpxXtT",
        "colab_type": "text"
      },
      "source": [
        "- Epoch, criterion and optimizer"
      ]
    },
    {
      "cell_type": "code",
      "metadata": {
        "id": "xKODAj1XxX0W",
        "colab_type": "code",
        "colab": {}
      },
      "source": [
        "EPOCHS = 50000\n",
        "criterion = nn.MSELoss()\n",
        "optimizer = optim.SGD(net.parameters(), lr=0.01)"
      ],
      "execution_count": 0,
      "outputs": []
    },
    {
      "cell_type": "markdown",
      "metadata": {
        "id": "4Nj_yRrjxX73",
        "colab_type": "text"
      },
      "source": [
        "- Training loop"
      ]
    },
    {
      "cell_type": "code",
      "metadata": {
        "id": "GY0As_CFxYD6",
        "colab_type": "code",
        "colab": {}
      },
      "source": [
        "print(\"Training loop:\")\n",
        "for idx in range(0, EPOCHS):\n",
        "    for input, target in zip(inputs, targets):\n",
        "        optimizer.zero_grad()   # zero the gradient buffers\n",
        "        output = net(input)\n",
        "        loss = criterion(output, target)\n",
        "        loss.backward()\n",
        "        optimizer.step()    # Does the update\n",
        "    if idx % 5000 == 0:\n",
        "        print(\"Epoch {: >8} Loss: {}\".format(idx, loss.data.numpy()))"
      ],
      "execution_count": 0,
      "outputs": []
    },
    {
      "cell_type": "markdown",
      "metadata": {
        "id": "0NfmakfFxYLh",
        "colab_type": "text"
      },
      "source": [
        "- The results:"
      ]
    },
    {
      "cell_type": "code",
      "metadata": {
        "id": "w_zR9M_wxYT4",
        "colab_type": "code",
        "colab": {}
      },
      "source": [
        "print(\"Final results:\")\n",
        "for input, target in zip(inputs, targets):\n",
        "    output = net(input)\n",
        "    print(\"Input:[{},{}] Target:[{}] Predicted:[{}] Error:[{}]\".format(\n",
        "        int(input.data.numpy()[0][0]),\n",
        "        int(input.data.numpy()[0][1]),\n",
        "        int(target.data.numpy()[0]),\n",
        "        round(float(output.data.numpy()[0]), 4),\n",
        "        round(float(abs(target.data.numpy()[0] - output.data.numpy()[0])), 4)\n",
        "    ))"
      ],
      "execution_count": 0,
      "outputs": []
    },
    {
      "cell_type": "markdown",
      "metadata": {
        "id": "kp79GSFsxYbs",
        "colab_type": "text"
      },
      "source": [
        "- Inference"
      ]
    },
    {
      "cell_type": "code",
      "metadata": {
        "id": "ME38m7QxxzeJ",
        "colab_type": "code",
        "colab": {}
      },
      "source": [
        "output = net(Variable(torch.Tensor([1, 0])))\n",
        "print(output)"
      ],
      "execution_count": 0,
      "outputs": []
    },
    {
      "cell_type": "markdown",
      "metadata": {
        "id": "Try5LyO4xznw",
        "colab_type": "text"
      },
      "source": [
        "---\n",
        "\n",
        "# Repository\n",
        "\n",
        "All material in this course can be cloned from https://github.com/linerocks/vibrastic101\n",
        "\n",
        "---\n",
        "\n",
        "# References\n",
        "\n",
        "- <small>https://github.com/lmarti/machine-learning</small>\n",
        "- <small>https://www.datasetlist.com/</small>\n",
        "- <small>https://pytorch.org/docs/stable/index.html</small>\n",
        "- <small>https://github.com/jcjohnson/pytorch-examples</small>\n",
        "- <small>https://www.deeplearningwizard.com/deep_learning/practical_pytorch/pytorch_feedforward_neuralnetwork/</small>\n",
        "- <small>https://missinglink.ai/guides/neural-network-concepts/7-types-neural-network-activation-functions-right/</small>\n",
        "- <small>https://www.analyticsvidhya.com/blog/2019/03/deep-learning-frameworks-comparison/</small>\n",
        "- <small>https://towardsdatascience.com/deep-learning-framework-power-scores-2018-23607ddf297a</small>\n",
        "\n",
        "---"
      ]
    }
  ]
}